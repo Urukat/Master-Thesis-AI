{
  "nbformat": 4,
  "nbformat_minor": 0,
  "metadata": {
    "colab": {
      "provenance": []
    },
    "kernelspec": {
      "name": "python3",
      "display_name": "Python 3"
    },
    "language_info": {
      "name": "python"
    }
  },
  "cells": [
    {
      "cell_type": "code",
      "execution_count": 1,
      "metadata": {
        "colab": {
          "base_uri": "https://localhost:8080/"
        },
        "id": "AaPFL45byVou",
        "outputId": "d3d4905c-98eb-481a-fe57-3406651b6c41"
      },
      "outputs": [
        {
          "output_type": "stream",
          "name": "stdout",
          "text": [
            "Mounted at /content/drive\n",
            "/content/drive/MyDrive/Thesis/probabilistic_harmony_model\n"
          ]
        }
      ],
      "source": [
        "from google.colab import drive\n",
        "drive.mount('/content/drive')\n",
        "%cd /content/drive/MyDrive/Thesis/probabilistic_harmony_model"
      ]
    },
    {
      "cell_type": "code",
      "source": [
        "!pip install pyro-api==0.1.2\n",
        "!pip install pyro-ppl==1.8.4\n",
        "!pip install pitchtypes==0.4.0"
      ],
      "metadata": {
        "colab": {
          "base_uri": "https://localhost:8080/"
        },
        "id": "yjiaiXiekk2L",
        "outputId": "dc8e7c5f-8308-47cb-b3f0-834ab49accc5"
      },
      "execution_count": 2,
      "outputs": [
        {
          "output_type": "stream",
          "name": "stdout",
          "text": [
            "Collecting pyro-api==0.1.2\n",
            "  Downloading pyro_api-0.1.2-py3-none-any.whl (11 kB)\n",
            "Installing collected packages: pyro-api\n",
            "Successfully installed pyro-api-0.1.2\n",
            "Collecting pyro-ppl==1.8.4\n",
            "  Downloading pyro_ppl-1.8.4-py3-none-any.whl (730 kB)\n",
            "\u001b[2K     \u001b[90m━━━━━━━━━━━━━━━━━━━━━━━━━━━━━━━━━━━━━━━━\u001b[0m \u001b[32m730.7/730.7 kB\u001b[0m \u001b[31m7.1 MB/s\u001b[0m eta \u001b[36m0:00:00\u001b[0m\n",
            "\u001b[?25hRequirement already satisfied: numpy>=1.7 in /usr/local/lib/python3.10/dist-packages (from pyro-ppl==1.8.4) (1.23.5)\n",
            "Requirement already satisfied: opt-einsum>=2.3.2 in /usr/local/lib/python3.10/dist-packages (from pyro-ppl==1.8.4) (3.3.0)\n",
            "Requirement already satisfied: pyro-api>=0.1.1 in /usr/local/lib/python3.10/dist-packages (from pyro-ppl==1.8.4) (0.1.2)\n",
            "Requirement already satisfied: torch>=1.11.0 in /usr/local/lib/python3.10/dist-packages (from pyro-ppl==1.8.4) (2.1.0+cu121)\n",
            "Requirement already satisfied: tqdm>=4.36 in /usr/local/lib/python3.10/dist-packages (from pyro-ppl==1.8.4) (4.66.1)\n",
            "Requirement already satisfied: filelock in /usr/local/lib/python3.10/dist-packages (from torch>=1.11.0->pyro-ppl==1.8.4) (3.13.1)\n",
            "Requirement already satisfied: typing-extensions in /usr/local/lib/python3.10/dist-packages (from torch>=1.11.0->pyro-ppl==1.8.4) (4.5.0)\n",
            "Requirement already satisfied: sympy in /usr/local/lib/python3.10/dist-packages (from torch>=1.11.0->pyro-ppl==1.8.4) (1.12)\n",
            "Requirement already satisfied: networkx in /usr/local/lib/python3.10/dist-packages (from torch>=1.11.0->pyro-ppl==1.8.4) (3.2.1)\n",
            "Requirement already satisfied: jinja2 in /usr/local/lib/python3.10/dist-packages (from torch>=1.11.0->pyro-ppl==1.8.4) (3.1.2)\n",
            "Requirement already satisfied: fsspec in /usr/local/lib/python3.10/dist-packages (from torch>=1.11.0->pyro-ppl==1.8.4) (2023.6.0)\n",
            "Requirement already satisfied: triton==2.1.0 in /usr/local/lib/python3.10/dist-packages (from torch>=1.11.0->pyro-ppl==1.8.4) (2.1.0)\n",
            "Requirement already satisfied: MarkupSafe>=2.0 in /usr/local/lib/python3.10/dist-packages (from jinja2->torch>=1.11.0->pyro-ppl==1.8.4) (2.1.3)\n",
            "Requirement already satisfied: mpmath>=0.19 in /usr/local/lib/python3.10/dist-packages (from sympy->torch>=1.11.0->pyro-ppl==1.8.4) (1.3.0)\n",
            "Installing collected packages: pyro-ppl\n",
            "Successfully installed pyro-ppl-1.8.4\n",
            "Collecting pitchtypes==0.4.0\n",
            "  Downloading pitchtypes-0.4.0-py3-none-any.whl (39 kB)\n",
            "Requirement already satisfied: numpy in /usr/local/lib/python3.10/dist-packages (from pitchtypes==0.4.0) (1.23.5)\n",
            "Installing collected packages: pitchtypes\n",
            "Successfully installed pitchtypes-0.4.0\n"
          ]
        }
      ]
    },
    {
      "cell_type": "code",
      "source": [
        "import torch\n",
        "import pyro\n",
        "import pyro.distributions as dist\n",
        "from pyro.infer import SVI, Trace_ELBO\n",
        "from pyro.optim import Adam\n",
        "\n",
        "from pyro.distributions import *\n",
        "#from collections import Counter\n",
        "import pyro.infer\n",
        "import pyro.optim\n",
        "import pyro.util\n",
        "pyro.enable_validation(True)\n",
        "\n",
        "import matplotlib.pyplot as plt\n",
        "import tqdm\n",
        "\n",
        "import numpy as np\n",
        "import pandas as pd\n",
        "import scipy.stats as stats\n",
        "\n",
        "import os.path as path\n",
        "from datetime import datetime\n",
        "import json\n",
        "\n",
        "import utils\n",
        "\n",
        "import gc"
      ],
      "metadata": {
        "id": "sfBowDnVkoUt"
      },
      "execution_count": 3,
      "outputs": []
    },
    {
      "cell_type": "code",
      "source": [
        "gpu = torch.cuda.is_available()\n",
        "\n",
        "# TODO: set the GPU you want to use\n",
        "gpu_n = 0\n",
        "\n",
        "torch.set_default_dtype(torch.float64)\n",
        "\n",
        "device = torch.device(f'cuda:{gpu_n}' if gpu else 'cpu')\n",
        "print(device)"
      ],
      "metadata": {
        "colab": {
          "base_uri": "https://localhost:8080/"
        },
        "id": "b_4XJwwNmXT4",
        "outputId": "4ec5b874-375d-47c6-fe24-1a695b257001"
      },
      "execution_count": 4,
      "outputs": [
        {
          "output_type": "stream",
          "name": "stdout",
          "text": [
            "cpu\n"
          ]
        }
      ]
    },
    {
      "cell_type": "code",
      "source": [
        "def save_rng_state(name):\n",
        "    fn = name + '-' + datetime.today().isoformat() + '.state'\n",
        "    state = pyro.util.get_rng_state()\n",
        "    with open('rng-' + fn, 'w') as f:\n",
        "        print(state, file=f)\n",
        "    torch.save(state['torch'], 'torch-' + fn)"
      ],
      "metadata": {
        "id": "bCjCALWwmX6x"
      },
      "execution_count": 5,
      "outputs": []
    },
    {
      "cell_type": "code",
      "source": [
        "# set random seeds\n",
        "pyro.set_rng_seed(0)\n",
        "#torch.set_deterministic(True)\n",
        "#torch.set_num_threads(1)\n",
        "#torch.set_num_interop_threads(1)\n",
        "\n",
        "# fix the range of pitches we consider\n",
        "fifth_range = 2*7                  # 2 diatonics\n",
        "npcs = 2*fifth_range+1             # around C: Cbb to C## on LoF\n",
        "utils.set_fifth_range(fifth_range) # used to make helper functions work correctly"
      ],
      "metadata": {
        "id": "CBX40dqcmZ3l"
      },
      "execution_count": 6,
      "outputs": []
    },
    {
      "cell_type": "markdown",
      "source": [
        "# **1. Simplified Model**\n",
        "\n",
        "Chord Types: These are initially unknown and could represent major, minor, diminished, augmented, etc. We will infer these from the data.\n",
        "\n",
        "### **Generative Process**:\n",
        "\n",
        "Chord Type Selection (c): Randomly choose a chord type.\n",
        "Number of Notes (n): Randomly decide the number of notes in the chord.\n",
        "\n",
        "Pitch Generation: For each note, sample its pitch from the chosen chord type's distribution.\n",
        "\n",
        "### **Inference**:\n",
        "\n",
        "Observed Variables: Number of notes (n) and pitches (p).\n",
        "Unobserved Variables: Chord type (c) and chord type profiles (ϕ).\n"
      ],
      "metadata": {
        "id": "hBg5OLi5sGRa"
      }
    },
    {
      "cell_type": "markdown",
      "source": [
        "## Step 1: Model\n",
        "**Notations:**\n",
        "- $h$: probablity distribution of chords (harmony)\n",
        "- $\\Phi$: chord profile for all chord types, where each $\\phi_i$ conntains weights for each chord\n",
        "- $npcs$: range of line of fifths, which is the number of pitches we consider\n",
        "- $n_{harmonies}$: number of different chord types\n",
        "- $n_{chords}$: length of dataset (how many chords we observe in the dataset)\n",
        "\n",
        "**Generating Process:**\n",
        "\n",
        "For all $i$:\n",
        "\n",
        "- $\\phi_i \\sim Dirichlet(0.5, npcs)$\n",
        "- $h \\sim Dirichlet(0.5, n_{harmonies})$\n",
        "\n",
        "    For each chord j:\n",
        "    - Choose chords: $c_i \\sim Categorical(h)$\n",
        "    - Choose pitches: $p_j \\sim Multinomial(\\phi_{cj}, N_j)$\n",
        "\n",
        "where $p_j$ and $N_j$ are observed, other variables are unobserved.\n",
        "\n",
        "![微信图片_20231130153109.png](data:image/png;base64,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)\n",
        "\n"
      ],
      "metadata": {
        "id": "PyyFvqV_ttMj"
      }
    },
    {
      "cell_type": "code",
      "source": [
        "def simplified_chord_model(npcs, nharmonies, data, subsamples=500, **kwargs):\n",
        "    # parameters priors:\n",
        "    # distribution of the harmonies\n",
        "    p_harmony = pyro.sample('p_harmony', dist.Dirichlet(0.5 * torch.ones(nharmonies, device=device)))\n",
        "    # distribution of notes in the harmonies (chord profiles)\n",
        "    with pyro.plate('harmonies', nharmonies):\n",
        "        chord_profiles = pyro.sample('chord_profiles', dist.Dirichlet(0.5 * torch.ones(npcs, device=device)))\n",
        "\n",
        "    # Sampling the data:\n",
        "    nchords = len(data['c'])\n",
        "    subs = min(nchords, subsamples) if subsamples is not None else None\n",
        "\n",
        "    with pyro.plate('data', nchords, subsample=subs) as ind:\n",
        "        # Sample a chord type based on the harmony distribution (to be inferred)\n",
        "        c = pyro.sample('c', dist.Categorical(p_harmony))\n",
        "\n",
        "        # number of notes in the chord, not going to use\n",
        "        # n = int(data['n'])\n",
        "        # sampling pitches for the chord based on the selected chord type profile\n",
        "        pitches = pyro.sample('pitches', dist.Multinomial(1, probs=chord_profiles[c], validate_args=False), obs=data['pitches'][ind])\n",
        "\n",
        "    return {\"p_harmony\": p_harmony, \"chord_profiles\": chord_profiles, \"c\": c, \"pitches\": pitches}"
      ],
      "metadata": {
        "id": "bojZek1O660d"
      },
      "execution_count": 7,
      "outputs": []
    },
    {
      "cell_type": "markdown",
      "source": [
        " Step 2: Guide for Inference\n"
      ],
      "metadata": {
        "id": "Fuw1ztQXuSZK"
      }
    },
    {
      "cell_type": "code",
      "source": [
        "def simplified_chord_guide(npcs, nharmonies, data, subsamples=500, **kwargs):\n",
        "    # no need to guide observed variables like pitches and number of notes\n",
        "    # for the distribution of the harmonies\n",
        "    alpha_h = pyro.param('alpha_h', torch.ones(nharmonies, device=device), constraint=constraints.positive)\n",
        "    pyro.sample('p_harmony', dist.Dirichlet(alpha_h))\n",
        "\n",
        "    # for the chord profiles\n",
        "    with pyro.plate('harmonies', nharmonies):\n",
        "        alpha_phi = pyro.param('alpha_phi', torch.ones(npcs, device=device), constraint=constraints.positive)\n",
        "        pyro.sample('chord_profiles', dist.Dirichlet(alpha_phi))\n",
        "\n",
        "    # for the chord types\n",
        "    nchords = len(data['c'])\n",
        "    subs = min(nchords, subsamples) if subsamples is not None else None\n",
        "    with pyro.plate('data', nchords, subsample=subs) as ind:\n",
        "        probs_c = pyro.param('probs_c', torch.ones(nharmonies, device=device), constraint=constraints.simplex)\n",
        "        pyro.sample('c', dist.Categorical(probs=probs_c))"
      ],
      "metadata": {
        "id": "jhYjDCSas9NW"
      },
      "execution_count": 8,
      "outputs": []
    },
    {
      "cell_type": "markdown",
      "source": [
        "## Step 3: Data and Conditioning\n",
        "**Data Format**\n"
      ],
      "metadata": {
        "id": "QWcBS-LxyEQk"
      }
    },
    {
      "cell_type": "code",
      "source": [
        "def simplified_chord_tensor(notes):\n",
        "    \"\"\"Takes a list of notes as (fifth, type) pairs and returns a vector of counts for fifths.\"\"\"\n",
        "    chord = torch.zeros(npcs, device=device)\n",
        "    for fifth in notes:\n",
        "        index = utils.fifth_to_index(fifth)\n",
        "        chord[index] += 1\n",
        "    return chord\n",
        "\n",
        "def simplified_annot_data_obs(chords):\n",
        "    \"\"\"Helper function to turn a list of chord dictionaries into a dictionary of observation vectors.\"\"\"\n",
        "    obs = {}\n",
        "    obs[\"pitches\"] = torch.cat([simplified_chord_tensor(c['notes']).reshape((1, -1)) for c in chords], dim=0)\n",
        "    obs[\"c\"] = torch.tensor([c['label'] for c in chords], device=device)\n",
        "    obs[\"n\"] = torch.tensor([len(c['notes']) - 1 for c in chords], device=device)\n",
        "    return obs"
      ],
      "metadata": {
        "id": "ybKoKUgKyhPB"
      },
      "execution_count": 9,
      "outputs": []
    },
    {
      "cell_type": "markdown",
      "source": [
        "**Loading the Dataset**\n",
        "\n",
        "The data is loaded from a TSV file that. The resulting dataframe is converted to the observation format that we pass to the model."
      ],
      "metadata": {
        "id": "RUiTcFN7pgI5"
      }
    },
    {
      "cell_type": "code",
      "source": [
        "def load_dataset(filename):\n",
        "    filename = path.join(\"data\", filename)\n",
        "    print(\"loading dataset...\")\n",
        "    df = utils.load_csv(filename)\n",
        "    sizes = df.groupby(['chordid', 'label']).size()\n",
        "    type_counts = sizes.groupby('label').size().sort_values(ascending=False)\n",
        "    chordtypes = type_counts.index.tolist()\n",
        "    df['numlabel'] = df.label.map(chordtypes.index)\n",
        "\n",
        "    # check if precomputed tensor data is available:\n",
        "    prefn = filename + \"_precomp.pt\"\n",
        "    if path.exists(prefn) and path.getmtime(prefn) > path.getmtime(filename):\n",
        "        print(\"using precomputed tensor data.\")\n",
        "        obs = torch.load(prefn, map_location=device)\n",
        "    else:\n",
        "        print('extracting chords...')\n",
        "        chords = [{'label': numlabel, 'notes': [row['fifth'] for index, row in grp.iterrows()]}\n",
        "                  for (_, numlabel), grp in tqdm.tqdm(df.groupby(['chordid', 'numlabel']))]\n",
        "        print('converting chords to tensors...')\n",
        "        obs = simplified_annot_data_obs(chords)\n",
        "        torch.save(obs, prefn)\n",
        "\n",
        "    print(len(chordtypes), \"chord types\")\n",
        "    print(len(obs[\"c\"]), \"chords\")\n",
        "    return df, obs, chordtypes"
      ],
      "metadata": {
        "id": "DX1dqkvnyatB"
      },
      "execution_count": 10,
      "outputs": []
    },
    {
      "cell_type": "code",
      "source": [
        "def get_init_params(df, nharms, npcs):\n",
        "    init = dict()\n",
        "\n",
        "    # initialize params for harmonies\n",
        "    init['harmonies'] = torch.tensor(df.groupby('numlabel').size().sort_values(ascending=False), device=device) + 0.5\n",
        "\n",
        "    # initialize params for chord profiles\n",
        "    init['chord_profiles'] = torch.zeros([nharms, npcs], device=device) + 0.5\n",
        "    for (numlabel, fifth), grp in df.groupby(['numlabel', 'fifth']):\n",
        "        init['chord_profiles'][numlabel, utils.fifth_to_index(fifth)] += grp.fifth.count()\n",
        "\n",
        "    chord_sizes = df.groupby('chordid').size()\n",
        "    init['sum_chords'] = torch.tensor(sum(chord_sizes), device=device)\n",
        "    init['n_chords'] = torch.tensor(len(chord_sizes), device=device)\n",
        "    return init"
      ],
      "metadata": {
        "id": "G7dwaFCFqK7R"
      },
      "execution_count": 11,
      "outputs": []
    },
    {
      "cell_type": "markdown",
      "source": [
        "After inferring the parameters we save them for easier inspection and reuse.\n",
        "\n"
      ],
      "metadata": {
        "id": "e6ZGBtvWqRAe"
      }
    },
    {
      "cell_type": "code",
      "source": [
        "def save_params(params, nharmonies, npcs, name):\n",
        "    # Save the PyTorch parameters\n",
        "    torch.save(params , path.join(\"results\", name + '.pt'))\n",
        "\n",
        "    # Save the parameters in a JSON file for easy access\n",
        "    with open(path.join(\"results\", name + '.json'), 'w') as f:\n",
        "        json.dump({'params': {key: val.tolist() for key, val in params.items()},\n",
        "                   'nharmonies': nharmonies,\n",
        "                   'npcs': npcs},\n",
        "                  f)"
      ],
      "metadata": {
        "id": "yRbJ3f6QqRqW"
      },
      "execution_count": 12,
      "outputs": []
    },
    {
      "cell_type": "markdown",
      "source": [
        "## Step 4: Inference"
      ],
      "metadata": {
        "id": "KFZmsbCW3Hik"
      }
    },
    {
      "cell_type": "code",
      "source": [
        "def infer_posteriors(obs, init, nharmonies, npcs,\n",
        "                     nsteps=5000, subsamples=10000, particles=1,\n",
        "                     plot_loss=True, save_as=None):\n",
        "    # Optimize the parameters of the guide\n",
        "    pyro.clear_param_store()\n",
        "    pyro.set_rng_seed(1625)  # set every time for independent reproducibility\n",
        "    svi = pyro.infer.SVI(model=simplified_chord_model,\n",
        "                         guide=simplified_chord_guide,\n",
        "                         optim=pyro.optim.Adam({\"lr\": 0.01, \"betas\": (0.95, 0.999)}),\n",
        "                         loss=pyro.infer.Trace_ELBO(num_particles=particles))\n",
        "\n",
        "    # Set up histories for the loss and some of the parameters\n",
        "    losses = np.zeros(nsteps)\n",
        "    harmony_history = np.zeros((nsteps, nharmonies))\n",
        "    chord_profile_history = np.zeros((nsteps, nharmonies, npcs))\n",
        "\n",
        "    # Run the optimization\n",
        "    for i in tqdm.trange(nsteps):\n",
        "        # Update parameters and record loss\n",
        "        losses[i] = svi.step(npcs, nharmonies, obs, subsamples, init=init)\n",
        "\n",
        "        # Record values of some parameters\n",
        "        ps = pyro.get_param_store()\n",
        "        harmony_history[i] = ps.get_param('alpha_h').cpu().detach().numpy()\n",
        "        chord_profile_history[i] = ps.get_param('alpha_phi').cpu().detach().numpy()\n",
        "\n",
        "    # Plot the loss\n",
        "    if plot_loss:\n",
        "        plt.figure()\n",
        "        plt.plot(losses)\n",
        "        plt.xlabel(\"iteration\")\n",
        "        plt.ylabel(\"loss\")\n",
        "        plt.title(f\"loss ({save_as})\")\n",
        "        plt.show(block=False)\n",
        "        print(\"loss variance (last 100 steps):\", losses[-100:].var())\n",
        "\n",
        "    # Extract the parameters\n",
        "    params = {name: value.detach().cpu().numpy() for name, value in pyro.get_param_store().items()}\n",
        "    if save_as is not None:\n",
        "        save_params(params, nharmonies, npcs, save_as)\n",
        "\n",
        "    return params, harmony_history, chord_profile_history"
      ],
      "metadata": {
        "id": "pKJ-EUkQq8pE"
      },
      "execution_count": 13,
      "outputs": []
    },
    {
      "cell_type": "markdown",
      "source": [
        "## Step 5: Plotting"
      ],
      "metadata": {
        "id": "YvRzu4NEr19-"
      }
    },
    {
      "cell_type": "code",
      "source": [
        "# histories\n",
        "\n",
        "def plot_param_history(name, ax, history, ylabel):\n",
        "    ax.plot(history)\n",
        "    ax.set_xlabel(\"iteration\")\n",
        "    ax.set_ylabel(ylabel)\n",
        "    ax.set_title(f\"{ylabel} ({name})\")\n",
        "\n",
        "def plot_histories(name, param_history):\n",
        "    num_params = len(param_history)\n",
        "    fig, axes = plt.subplots(1, num_params, figsize=(5 * num_params, 4))\n",
        "\n",
        "    if num_params == 1:\n",
        "        axes = [axes]\n",
        "\n",
        "    for ax, (param_name, history) in zip(axes, param_history.items()):\n",
        "        if np.array(history).ndim > 2:\n",
        "            history = np.mean(history, axis=(1, 2))\n",
        "        ax.plot(history)\n",
        "        ax.set_xlabel(\"iteration\")\n",
        "        ax.set_ylabel(param_name)\n",
        "        ax.set_title(f\"{param_name} ({name})\")\n",
        "\n",
        "    fig.tight_layout()\n",
        "    plt.show()"
      ],
      "metadata": {
        "id": "34B9P4ENr9yX"
      },
      "execution_count": 14,
      "outputs": []
    },
    {
      "cell_type": "code",
      "source": [
        "# posterior\n",
        "\n",
        "# def plot_posteriors(name, params):\n",
        "#     fig, axs = plt.subplots(2, 1, figsize=(12, 12))\n",
        "\n",
        "#     # Plot chord types\n",
        "#     plot_chord_types(name, axs[0], params['params_p_chord'])\n",
        "\n",
        "#     # Plot pitches for a selected chord type\n",
        "#     plot_pitches(name, axs[1], params['params_pitches'], chord_index=0)\n",
        "\n",
        "#     plt.show(block=False)\n",
        "\n",
        "# chord types distribution\n",
        "def plot_chord_types(name, ax, chord_types):\n",
        "    ax.bar(np.arange(len(chord_types)), chord_types)\n",
        "    ax.set_xlabel('Chord Types')\n",
        "    ax.set_ylabel('Probability')\n",
        "    ax.set_title(f'Chord Type Distribution ({name})')\n",
        "\n",
        "# pitch distribution for a specific chord type\n",
        "def plot_pitches(name, ax, pitches, chord_index=0):\n",
        "    ax.bar(np.arange(len(pitches)), pitches)\n",
        "    ax.set_xlabel('Pitches')\n",
        "    ax.set_ylabel('Probability')\n",
        "    ax.set_title(f'Pitch Distribution for Chord Type {chord_index} ({name})')\n",
        "\n",
        "# a subplot for each chord type's pitch distribution\n",
        "def plot_posteriors(name, params):\n",
        "    num_pitch_distributions = len(params['params_pitches'])\n",
        "\n",
        "    fig, axs = plt.subplots(num_pitch_distributions + 1, 1, figsize=(12, 3 * (num_pitch_distributions + 1)), constrained_layout=True)\n",
        "\n",
        "    # if there's only one pitch distribution, axs will not be an array, so put it into an array\n",
        "    if num_pitch_distributions == 1:\n",
        "        axs = [axs]\n",
        "\n",
        "    plot_chord_types(name, axs[0], params['params_p_chord'])\n",
        "\n",
        "    for i in range(num_pitch_distributions):\n",
        "        plot_pitches(name, axs[i + 1], params['params_pitches'][i], chord_index=i)\n",
        "\n",
        "    plt.show(block=False)"
      ],
      "metadata": {
        "id": "W0UKUeY0r-kn"
      },
      "execution_count": 15,
      "outputs": []
    },
    {
      "cell_type": "markdown",
      "source": [
        "# 2. Experiment"
      ],
      "metadata": {
        "id": "u4CGNHWNq-NA"
      }
    },
    {
      "cell_type": "markdown",
      "source": [
        "**DCML**"
      ],
      "metadata": {
        "id": "NmW-6A7FKEOY"
      }
    },
    {
      "cell_type": "code",
      "source": [
        "# prepare the dataset\n",
        "dcml_df, dcml_obs, dcml_chordtypes = load_dataset('dcml.tsv')\n",
        "dcml_init = get_init_params(dcml_df, len(dcml_chordtypes), npcs)"
      ],
      "metadata": {
        "id": "GEi4jjA_yEfP",
        "colab": {
          "base_uri": "https://localhost:8080/"
        },
        "outputId": "89da81a1-ab43-4824-af61-3bb71fdc6cfd"
      },
      "execution_count": 16,
      "outputs": [
        {
          "output_type": "stream",
          "name": "stdout",
          "text": [
            "loading dataset...\n",
            "using precomputed tensor data.\n",
            "14 chord types\n",
            "113771 chords\n"
          ]
        }
      ]
    },
    {
      "cell_type": "code",
      "source": [
        "dcml_obs['pitches'].shape"
      ],
      "metadata": {
        "colab": {
          "base_uri": "https://localhost:8080/"
        },
        "id": "gZ61HXtAjeQx",
        "outputId": "cc4f716c-590c-43bc-c23b-144eed69e230"
      },
      "execution_count": 17,
      "outputs": [
        {
          "output_type": "execute_result",
          "data": {
            "text/plain": [
              "torch.Size([113771, 29])"
            ]
          },
          "metadata": {},
          "execution_count": 17
        }
      ]
    },
    {
      "cell_type": "code",
      "source": [
        "# Run the optimization\n",
        "dcml_params, harmony_history, chord_profile_history = infer_posteriors(obs=dcml_obs, init=dcml_init,\n",
        "                                                                       nharmonies=len(dcml_chordtypes),\n",
        "                                                                       npcs=npcs, nsteps=350, subsamples=None,\n",
        "                                                                       particles=1, save_as=\"dcml_params\")"
      ],
      "metadata": {
        "id": "Y_jYW4TetpZF",
        "colab": {
          "base_uri": "https://localhost:8080/",
          "height": 507
        },
        "outputId": "45fca63f-afc2-4914-f0db-a00125a59bf0"
      },
      "execution_count": 18,
      "outputs": [
        {
          "output_type": "stream",
          "name": "stderr",
          "text": [
            "100%|██████████| 350/350 [04:13<00:00,  1.38it/s]\n"
          ]
        },
        {
          "output_type": "display_data",
          "data": {
            "text/plain": [
              "<Figure size 640x480 with 1 Axes>"
            ],
            "image/png": "[encoded data removed]"
          },
          "metadata": {}
        },
        {
          "output_type": "stream",
          "name": "stdout",
          "text": [
            "loss variance (last 100 steps): 883220505.8329401\n"
          ]
        }
      ]
    }
  ]
}